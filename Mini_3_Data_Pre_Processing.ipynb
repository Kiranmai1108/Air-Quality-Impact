{
  "nbformat": 4,
  "nbformat_minor": 0,
  "metadata": {
    "colab": {
      "provenance": []
    },
    "kernelspec": {
      "name": "python3",
      "display_name": "Python 3"
    },
    "language_info": {
      "name": "python"
    }
  },
  "cells": [
    {
      "cell_type": "code",
      "execution_count": null,
      "metadata": {
        "id": "P5wyE47BidoU"
      },
      "outputs": [],
      "source": [
        "import pandas as pd\n",
        "import matplotlib.pyplot as plt\n",
        "import seaborn as sns"
      ]
    },
    {
      "cell_type": "code",
      "source": [
        "data = pd.read_csv('air_quality_health_impact_data.csv')"
      ],
      "metadata": {
        "id": "GrtNgqNVkO6x"
      },
      "execution_count": null,
      "outputs": []
    },
    {
      "cell_type": "code",
      "source": [
        "data.shape"
      ],
      "metadata": {
        "colab": {
          "base_uri": "https://localhost:8080/"
        },
        "id": "BDPC3d1w7gsG",
        "outputId": "0ad43303-5409-46db-ab68-e62b91625144"
      },
      "execution_count": null,
      "outputs": [
        {
          "output_type": "execute_result",
          "data": {
            "text/plain": [
              "(5811, 15)"
            ]
          },
          "metadata": {},
          "execution_count": 4
        }
      ]
    },
    {
      "cell_type": "markdown",
      "source": [
        "'data.shape' tells us that dataset contains 5,811 rows and 15 columns"
      ],
      "metadata": {
        "id": "tJNCJqQ6NdyD"
      }
    },
    {
      "cell_type": "code",
      "source": [
        "data.info()"
      ],
      "metadata": {
        "colab": {
          "base_uri": "https://localhost:8080/"
        },
        "id": "l2PYfp5lk_Y9",
        "outputId": "8f22eff6-c49e-49ed-d051-817e22e9ceb8"
      },
      "execution_count": null,
      "outputs": [
        {
          "output_type": "stream",
          "name": "stdout",
          "text": [
            "<class 'pandas.core.frame.DataFrame'>\n",
            "RangeIndex: 5811 entries, 0 to 5810\n",
            "Data columns (total 15 columns):\n",
            " #   Column               Non-Null Count  Dtype  \n",
            "---  ------               --------------  -----  \n",
            " 0   RecordID             5811 non-null   int64  \n",
            " 1   AQI                  5811 non-null   float64\n",
            " 2   PM10                 5811 non-null   float64\n",
            " 3   PM2_5                5811 non-null   float64\n",
            " 4   NO2                  5811 non-null   float64\n",
            " 5   SO2                  5811 non-null   float64\n",
            " 6   O3                   5811 non-null   float64\n",
            " 7   Temperature          5811 non-null   float64\n",
            " 8   Humidity             5811 non-null   float64\n",
            " 9   WindSpeed            5811 non-null   float64\n",
            " 10  RespiratoryCases     5811 non-null   int64  \n",
            " 11  CardiovascularCases  5811 non-null   int64  \n",
            " 12  HospitalAdmissions   5811 non-null   int64  \n",
            " 13  HealthImpactScore    5811 non-null   float64\n",
            " 14  HealthImpactClass    5811 non-null   float64\n",
            "dtypes: float64(11), int64(4)\n",
            "memory usage: 681.1 KB\n"
          ]
        }
      ]
    },
    {
      "cell_type": "markdown",
      "source": [
        "From the df.info() output, we can understand that the dataset contains 15 columns and 5811 rows. This provides a clear view of the data structure, including the data types of each attribute. Additionally, the output helps identify whether any null values exist by showing the count of non-null entries in each column. This count gives insight into the presence of missing values"
      ],
      "metadata": {
        "id": "Z-jmBlUqmtdw"
      }
    },
    {
      "cell_type": "code",
      "source": [
        "data.head()"
      ],
      "metadata": {
        "colab": {
          "base_uri": "https://localhost:8080/",
          "height": 226
        },
        "id": "pVN0i4Askv61",
        "outputId": "d2c6ec50-3e98-4a4f-e08f-6b8f4d4a24fb"
      },
      "execution_count": null,
      "outputs": [
        {
          "output_type": "execute_result",
          "data": {
            "text/plain": [
              "   RecordID         AQI        PM10       PM2_5         NO2        SO2  \\\n",
              "0         1  187.270059  295.853039   13.038560    6.639263  66.161150   \n",
              "1         2  475.357153  246.254703    9.984497   16.318326  90.499523   \n",
              "2         3  365.996971   84.443191   23.111340   96.317811  17.875850   \n",
              "3         4  299.329242   21.020609   14.273403   81.234403  48.323616   \n",
              "4         5   78.009320   16.987667  152.111623  121.235461  90.866167   \n",
              "\n",
              "           O3  Temperature   Humidity  WindSpeed  RespiratoryCases  \\\n",
              "0   54.624280     5.150335  84.424344   6.137755                 7   \n",
              "1  169.621728     1.543378  46.851415   4.521422                10   \n",
              "2    9.006794     1.169483  17.806977  11.157384                13   \n",
              "3   93.161033    21.925276  99.473373  15.302500                 8   \n",
              "4  241.795138     9.217517  24.906837  14.534733                 9   \n",
              "\n",
              "   CardiovascularCases  HospitalAdmissions  HealthImpactScore  \\\n",
              "0                    5                   1          97.244041   \n",
              "1                    2                   0         100.000000   \n",
              "2                    3                   0         100.000000   \n",
              "3                    8                   1         100.000000   \n",
              "4                    0                   1          95.182643   \n",
              "\n",
              "   HealthImpactClass  \n",
              "0                0.0  \n",
              "1                0.0  \n",
              "2                0.0  \n",
              "3                0.0  \n",
              "4                0.0  "
            ],
            "text/html": [
              "\n",
              "  <div id=\"df-fa87705c-689c-4c71-bde7-15fccfd704fe\" class=\"colab-df-container\">\n",
              "    <div>\n",
              "<style scoped>\n",
              "    .dataframe tbody tr th:only-of-type {\n",
              "        vertical-align: middle;\n",
              "    }\n",
              "\n",
              "    .dataframe tbody tr th {\n",
              "        vertical-align: top;\n",
              "    }\n",
              "\n",
              "    .dataframe thead th {\n",
              "        text-align: right;\n",
              "    }\n",
              "</style>\n",
              "<table border=\"1\" class=\"dataframe\">\n",
              "  <thead>\n",
              "    <tr style=\"text-align: right;\">\n",
              "      <th></th>\n",
              "      <th>RecordID</th>\n",
              "      <th>AQI</th>\n",
              "      <th>PM10</th>\n",
              "      <th>PM2_5</th>\n",
              "      <th>NO2</th>\n",
              "      <th>SO2</th>\n",
              "      <th>O3</th>\n",
              "      <th>Temperature</th>\n",
              "      <th>Humidity</th>\n",
              "      <th>WindSpeed</th>\n",
              "      <th>RespiratoryCases</th>\n",
              "      <th>CardiovascularCases</th>\n",
              "      <th>HospitalAdmissions</th>\n",
              "      <th>HealthImpactScore</th>\n",
              "      <th>HealthImpactClass</th>\n",
              "    </tr>\n",
              "  </thead>\n",
              "  <tbody>\n",
              "    <tr>\n",
              "      <th>0</th>\n",
              "      <td>1</td>\n",
              "      <td>187.270059</td>\n",
              "      <td>295.853039</td>\n",
              "      <td>13.038560</td>\n",
              "      <td>6.639263</td>\n",
              "      <td>66.161150</td>\n",
              "      <td>54.624280</td>\n",
              "      <td>5.150335</td>\n",
              "      <td>84.424344</td>\n",
              "      <td>6.137755</td>\n",
              "      <td>7</td>\n",
              "      <td>5</td>\n",
              "      <td>1</td>\n",
              "      <td>97.244041</td>\n",
              "      <td>0.0</td>\n",
              "    </tr>\n",
              "    <tr>\n",
              "      <th>1</th>\n",
              "      <td>2</td>\n",
              "      <td>475.357153</td>\n",
              "      <td>246.254703</td>\n",
              "      <td>9.984497</td>\n",
              "      <td>16.318326</td>\n",
              "      <td>90.499523</td>\n",
              "      <td>169.621728</td>\n",
              "      <td>1.543378</td>\n",
              "      <td>46.851415</td>\n",
              "      <td>4.521422</td>\n",
              "      <td>10</td>\n",
              "      <td>2</td>\n",
              "      <td>0</td>\n",
              "      <td>100.000000</td>\n",
              "      <td>0.0</td>\n",
              "    </tr>\n",
              "    <tr>\n",
              "      <th>2</th>\n",
              "      <td>3</td>\n",
              "      <td>365.996971</td>\n",
              "      <td>84.443191</td>\n",
              "      <td>23.111340</td>\n",
              "      <td>96.317811</td>\n",
              "      <td>17.875850</td>\n",
              "      <td>9.006794</td>\n",
              "      <td>1.169483</td>\n",
              "      <td>17.806977</td>\n",
              "      <td>11.157384</td>\n",
              "      <td>13</td>\n",
              "      <td>3</td>\n",
              "      <td>0</td>\n",
              "      <td>100.000000</td>\n",
              "      <td>0.0</td>\n",
              "    </tr>\n",
              "    <tr>\n",
              "      <th>3</th>\n",
              "      <td>4</td>\n",
              "      <td>299.329242</td>\n",
              "      <td>21.020609</td>\n",
              "      <td>14.273403</td>\n",
              "      <td>81.234403</td>\n",
              "      <td>48.323616</td>\n",
              "      <td>93.161033</td>\n",
              "      <td>21.925276</td>\n",
              "      <td>99.473373</td>\n",
              "      <td>15.302500</td>\n",
              "      <td>8</td>\n",
              "      <td>8</td>\n",
              "      <td>1</td>\n",
              "      <td>100.000000</td>\n",
              "      <td>0.0</td>\n",
              "    </tr>\n",
              "    <tr>\n",
              "      <th>4</th>\n",
              "      <td>5</td>\n",
              "      <td>78.009320</td>\n",
              "      <td>16.987667</td>\n",
              "      <td>152.111623</td>\n",
              "      <td>121.235461</td>\n",
              "      <td>90.866167</td>\n",
              "      <td>241.795138</td>\n",
              "      <td>9.217517</td>\n",
              "      <td>24.906837</td>\n",
              "      <td>14.534733</td>\n",
              "      <td>9</td>\n",
              "      <td>0</td>\n",
              "      <td>1</td>\n",
              "      <td>95.182643</td>\n",
              "      <td>0.0</td>\n",
              "    </tr>\n",
              "  </tbody>\n",
              "</table>\n",
              "</div>\n",
              "    <div class=\"colab-df-buttons\">\n",
              "\n",
              "  <div class=\"colab-df-container\">\n",
              "    <button class=\"colab-df-convert\" onclick=\"convertToInteractive('df-fa87705c-689c-4c71-bde7-15fccfd704fe')\"\n",
              "            title=\"Convert this dataframe to an interactive table.\"\n",
              "            style=\"display:none;\">\n",
              "\n",
              "  <svg xmlns=\"http://www.w3.org/2000/svg\" height=\"24px\" viewBox=\"0 -960 960 960\">\n",
              "    <path d=\"M120-120v-720h720v720H120Zm60-500h600v-160H180v160Zm220 220h160v-160H400v160Zm0 220h160v-160H400v160ZM180-400h160v-160H180v160Zm440 0h160v-160H620v160ZM180-180h160v-160H180v160Zm440 0h160v-160H620v160Z\"/>\n",
              "  </svg>\n",
              "    </button>\n",
              "\n",
              "  <style>\n",
              "    .colab-df-container {\n",
              "      display:flex;\n",
              "      gap: 12px;\n",
              "    }\n",
              "\n",
              "    .colab-df-convert {\n",
              "      background-color: #E8F0FE;\n",
              "      border: none;\n",
              "      border-radius: 50%;\n",
              "      cursor: pointer;\n",
              "      display: none;\n",
              "      fill: #1967D2;\n",
              "      height: 32px;\n",
              "      padding: 0 0 0 0;\n",
              "      width: 32px;\n",
              "    }\n",
              "\n",
              "    .colab-df-convert:hover {\n",
              "      background-color: #E2EBFA;\n",
              "      box-shadow: 0px 1px 2px rgba(60, 64, 67, 0.3), 0px 1px 3px 1px rgba(60, 64, 67, 0.15);\n",
              "      fill: #174EA6;\n",
              "    }\n",
              "\n",
              "    .colab-df-buttons div {\n",
              "      margin-bottom: 4px;\n",
              "    }\n",
              "\n",
              "    [theme=dark] .colab-df-convert {\n",
              "      background-color: #3B4455;\n",
              "      fill: #D2E3FC;\n",
              "    }\n",
              "\n",
              "    [theme=dark] .colab-df-convert:hover {\n",
              "      background-color: #434B5C;\n",
              "      box-shadow: 0px 1px 3px 1px rgba(0, 0, 0, 0.15);\n",
              "      filter: drop-shadow(0px 1px 2px rgba(0, 0, 0, 0.3));\n",
              "      fill: #FFFFFF;\n",
              "    }\n",
              "  </style>\n",
              "\n",
              "    <script>\n",
              "      const buttonEl =\n",
              "        document.querySelector('#df-fa87705c-689c-4c71-bde7-15fccfd704fe button.colab-df-convert');\n",
              "      buttonEl.style.display =\n",
              "        google.colab.kernel.accessAllowed ? 'block' : 'none';\n",
              "\n",
              "      async function convertToInteractive(key) {\n",
              "        const element = document.querySelector('#df-fa87705c-689c-4c71-bde7-15fccfd704fe');\n",
              "        const dataTable =\n",
              "          await google.colab.kernel.invokeFunction('convertToInteractive',\n",
              "                                                    [key], {});\n",
              "        if (!dataTable) return;\n",
              "\n",
              "        const docLinkHtml = 'Like what you see? Visit the ' +\n",
              "          '<a target=\"_blank\" href=https://colab.research.google.com/notebooks/data_table.ipynb>data table notebook</a>'\n",
              "          + ' to learn more about interactive tables.';\n",
              "        element.innerHTML = '';\n",
              "        dataTable['output_type'] = 'display_data';\n",
              "        await google.colab.output.renderOutput(dataTable, element);\n",
              "        const docLink = document.createElement('div');\n",
              "        docLink.innerHTML = docLinkHtml;\n",
              "        element.appendChild(docLink);\n",
              "      }\n",
              "    </script>\n",
              "  </div>\n",
              "\n",
              "\n",
              "<div id=\"df-158fe2ec-6b03-4a28-a5b2-da8b1b7b2591\">\n",
              "  <button class=\"colab-df-quickchart\" onclick=\"quickchart('df-158fe2ec-6b03-4a28-a5b2-da8b1b7b2591')\"\n",
              "            title=\"Suggest charts\"\n",
              "            style=\"display:none;\">\n",
              "\n",
              "<svg xmlns=\"http://www.w3.org/2000/svg\" height=\"24px\"viewBox=\"0 0 24 24\"\n",
              "     width=\"24px\">\n",
              "    <g>\n",
              "        <path d=\"M19 3H5c-1.1 0-2 .9-2 2v14c0 1.1.9 2 2 2h14c1.1 0 2-.9 2-2V5c0-1.1-.9-2-2-2zM9 17H7v-7h2v7zm4 0h-2V7h2v10zm4 0h-2v-4h2v4z\"/>\n",
              "    </g>\n",
              "</svg>\n",
              "  </button>\n",
              "\n",
              "<style>\n",
              "  .colab-df-quickchart {\n",
              "      --bg-color: #E8F0FE;\n",
              "      --fill-color: #1967D2;\n",
              "      --hover-bg-color: #E2EBFA;\n",
              "      --hover-fill-color: #174EA6;\n",
              "      --disabled-fill-color: #AAA;\n",
              "      --disabled-bg-color: #DDD;\n",
              "  }\n",
              "\n",
              "  [theme=dark] .colab-df-quickchart {\n",
              "      --bg-color: #3B4455;\n",
              "      --fill-color: #D2E3FC;\n",
              "      --hover-bg-color: #434B5C;\n",
              "      --hover-fill-color: #FFFFFF;\n",
              "      --disabled-bg-color: #3B4455;\n",
              "      --disabled-fill-color: #666;\n",
              "  }\n",
              "\n",
              "  .colab-df-quickchart {\n",
              "    background-color: var(--bg-color);\n",
              "    border: none;\n",
              "    border-radius: 50%;\n",
              "    cursor: pointer;\n",
              "    display: none;\n",
              "    fill: var(--fill-color);\n",
              "    height: 32px;\n",
              "    padding: 0;\n",
              "    width: 32px;\n",
              "  }\n",
              "\n",
              "  .colab-df-quickchart:hover {\n",
              "    background-color: var(--hover-bg-color);\n",
              "    box-shadow: 0 1px 2px rgba(60, 64, 67, 0.3), 0 1px 3px 1px rgba(60, 64, 67, 0.15);\n",
              "    fill: var(--button-hover-fill-color);\n",
              "  }\n",
              "\n",
              "  .colab-df-quickchart-complete:disabled,\n",
              "  .colab-df-quickchart-complete:disabled:hover {\n",
              "    background-color: var(--disabled-bg-color);\n",
              "    fill: var(--disabled-fill-color);\n",
              "    box-shadow: none;\n",
              "  }\n",
              "\n",
              "  .colab-df-spinner {\n",
              "    border: 2px solid var(--fill-color);\n",
              "    border-color: transparent;\n",
              "    border-bottom-color: var(--fill-color);\n",
              "    animation:\n",
              "      spin 1s steps(1) infinite;\n",
              "  }\n",
              "\n",
              "  @keyframes spin {\n",
              "    0% {\n",
              "      border-color: transparent;\n",
              "      border-bottom-color: var(--fill-color);\n",
              "      border-left-color: var(--fill-color);\n",
              "    }\n",
              "    20% {\n",
              "      border-color: transparent;\n",
              "      border-left-color: var(--fill-color);\n",
              "      border-top-color: var(--fill-color);\n",
              "    }\n",
              "    30% {\n",
              "      border-color: transparent;\n",
              "      border-left-color: var(--fill-color);\n",
              "      border-top-color: var(--fill-color);\n",
              "      border-right-color: var(--fill-color);\n",
              "    }\n",
              "    40% {\n",
              "      border-color: transparent;\n",
              "      border-right-color: var(--fill-color);\n",
              "      border-top-color: var(--fill-color);\n",
              "    }\n",
              "    60% {\n",
              "      border-color: transparent;\n",
              "      border-right-color: var(--fill-color);\n",
              "    }\n",
              "    80% {\n",
              "      border-color: transparent;\n",
              "      border-right-color: var(--fill-color);\n",
              "      border-bottom-color: var(--fill-color);\n",
              "    }\n",
              "    90% {\n",
              "      border-color: transparent;\n",
              "      border-bottom-color: var(--fill-color);\n",
              "    }\n",
              "  }\n",
              "</style>\n",
              "\n",
              "  <script>\n",
              "    async function quickchart(key) {\n",
              "      const quickchartButtonEl =\n",
              "        document.querySelector('#' + key + ' button');\n",
              "      quickchartButtonEl.disabled = true;  // To prevent multiple clicks.\n",
              "      quickchartButtonEl.classList.add('colab-df-spinner');\n",
              "      try {\n",
              "        const charts = await google.colab.kernel.invokeFunction(\n",
              "            'suggestCharts', [key], {});\n",
              "      } catch (error) {\n",
              "        console.error('Error during call to suggestCharts:', error);\n",
              "      }\n",
              "      quickchartButtonEl.classList.remove('colab-df-spinner');\n",
              "      quickchartButtonEl.classList.add('colab-df-quickchart-complete');\n",
              "    }\n",
              "    (() => {\n",
              "      let quickchartButtonEl =\n",
              "        document.querySelector('#df-158fe2ec-6b03-4a28-a5b2-da8b1b7b2591 button');\n",
              "      quickchartButtonEl.style.display =\n",
              "        google.colab.kernel.accessAllowed ? 'block' : 'none';\n",
              "    })();\n",
              "  </script>\n",
              "</div>\n",
              "\n",
              "    </div>\n",
              "  </div>\n"
            ],
            "application/vnd.google.colaboratory.intrinsic+json": {
              "type": "dataframe",
              "variable_name": "data",
              "summary": "{\n  \"name\": \"data\",\n  \"rows\": 5811,\n  \"fields\": [\n    {\n      \"column\": \"RecordID\",\n      \"properties\": {\n        \"dtype\": \"number\",\n        \"std\": 1677,\n        \"min\": 1,\n        \"max\": 5811,\n        \"num_unique_values\": 5811,\n        \"samples\": [\n          4809,\n          158,\n          1371\n        ],\n        \"semantic_type\": \"\",\n        \"description\": \"\"\n      }\n    },\n    {\n      \"column\": \"AQI\",\n      \"properties\": {\n        \"dtype\": \"number\",\n        \"std\": 144.77763758707985,\n        \"min\": 0.0058173776830705,\n        \"max\": 499.8588366430653,\n        \"num_unique_values\": 5811,\n        \"samples\": [\n          123.48058349594626,\n          380.8098076643588,\n          485.6975470208198\n        ],\n        \"semantic_type\": \"\",\n        \"description\": \"\"\n      }\n    },\n    {\n      \"column\": \"PM10\",\n      \"properties\": {\n        \"dtype\": \"number\",\n        \"std\": 85.69850025240768,\n        \"min\": 0.0158480796890403,\n        \"max\": 299.90196157262767,\n        \"num_unique_values\": 5811,\n        \"samples\": [\n          51.83689556473896,\n          280.94799939306773,\n          122.86827817875276\n        ],\n        \"semantic_type\": \"\",\n        \"description\": \"\"\n      }\n    },\n    {\n      \"column\": \"PM2_5\",\n      \"properties\": {\n        \"dtype\": \"number\",\n        \"std\": 58.096611760948775,\n        \"min\": 0.0315489156113457,\n        \"max\": 199.9849653666353,\n        \"num_unique_values\": 5811,\n        \"samples\": [\n          58.175946448843874,\n          135.61207535753505,\n          14.988802539699364\n        ],\n        \"semantic_type\": \"\",\n        \"description\": \"\"\n      }\n    },\n    {\n      \"column\": \"NO2\",\n      \"properties\": {\n        \"dtype\": \"number\",\n        \"std\": 57.713175367618696,\n        \"min\": 0.0096247788623493,\n        \"max\": 199.98019540184632,\n        \"num_unique_values\": 5811,\n        \"samples\": [\n          55.31296248312492,\n          54.24430407682364,\n          84.46277557120645\n        ],\n        \"semantic_type\": \"\",\n        \"description\": \"\"\n      }\n    },\n    {\n      \"column\": \"SO2\",\n      \"properties\": {\n        \"dtype\": \"number\",\n        \"std\": 28.530328849847585,\n        \"min\": 0.0110231801822457,\n        \"max\": 99.96956093547604,\n        \"num_unique_values\": 5811,\n        \"samples\": [\n          24.698899528567956,\n          51.07829905154797,\n          63.97717210139645\n        ],\n        \"semantic_type\": \"\",\n        \"description\": \"\"\n      }\n    },\n    {\n      \"column\": \"O3\",\n      \"properties\": {\n        \"dtype\": \"number\",\n        \"std\": 86.53424034023514,\n        \"min\": 0.0016610027213981,\n        \"max\": 299.9368115437786,\n        \"num_unique_values\": 5811,\n        \"samples\": [\n          235.1272764633754,\n          267.2554162077549,\n          174.61307354417195\n        ],\n        \"semantic_type\": \"\",\n        \"description\": \"\"\n      }\n    },\n    {\n      \"column\": \"Temperature\",\n      \"properties\": {\n        \"dtype\": \"number\",\n        \"std\": 14.483067434614464,\n        \"min\": -9.99099805080186,\n        \"max\": 39.9634342598158,\n        \"num_unique_values\": 5811,\n        \"samples\": [\n          -2.173152675091102,\n          13.800901894205367,\n          9.108660596912683\n        ],\n        \"semantic_type\": \"\",\n        \"description\": \"\"\n      }\n    },\n    {\n      \"column\": \"Humidity\",\n      \"properties\": {\n        \"dtype\": \"number\",\n        \"std\": 26.02078563321217,\n        \"min\": 10.001506263214129,\n        \"max\": 99.9974932631184,\n        \"num_unique_values\": 5811,\n        \"samples\": [\n          75.37292750793186,\n          28.466385628806908,\n          93.13056927903676\n        ],\n        \"semantic_type\": \"\",\n        \"description\": \"\"\n      }\n    },\n    {\n      \"column\": \"WindSpeed\",\n      \"properties\": {\n        \"dtype\": \"number\",\n        \"std\": 5.7769499420451975,\n        \"min\": 0.0020942159628711,\n        \"max\": 19.999139087375404,\n        \"num_unique_values\": 5811,\n        \"samples\": [\n          5.193876250866718,\n          0.9669766302435988,\n          3.429418918772662\n        ],\n        \"semantic_type\": \"\",\n        \"description\": \"\"\n      }\n    },\n    {\n      \"column\": \"RespiratoryCases\",\n      \"properties\": {\n        \"dtype\": \"number\",\n        \"std\": 3,\n        \"min\": 1,\n        \"max\": 23,\n        \"num_unique_values\": 23,\n        \"samples\": [\n          15,\n          5,\n          7\n        ],\n        \"semantic_type\": \"\",\n        \"description\": \"\"\n      }\n    },\n    {\n      \"column\": \"CardiovascularCases\",\n      \"properties\": {\n        \"dtype\": \"number\",\n        \"std\": 2,\n        \"min\": 0,\n        \"max\": 14,\n        \"num_unique_values\": 15,\n        \"samples\": [\n          9,\n          13,\n          5\n        ],\n        \"semantic_type\": \"\",\n        \"description\": \"\"\n      }\n    },\n    {\n      \"column\": \"HospitalAdmissions\",\n      \"properties\": {\n        \"dtype\": \"number\",\n        \"std\": 1,\n        \"min\": 0,\n        \"max\": 12,\n        \"num_unique_values\": 10,\n        \"samples\": [\n          12,\n          0,\n          5\n        ],\n        \"semantic_type\": \"\",\n        \"description\": \"\"\n      }\n    },\n    {\n      \"column\": \"HealthImpactScore\",\n      \"properties\": {\n        \"dtype\": \"number\",\n        \"std\": 13.318904122664915,\n        \"min\": 22.44848790137248,\n        \"max\": 100.0,\n        \"num_unique_values\": 1528,\n        \"samples\": [\n          82.08171801987515,\n          94.46752120932018,\n          82.21097945704139\n        ],\n        \"semantic_type\": \"\",\n        \"description\": \"\"\n      }\n    },\n    {\n      \"column\": \"HealthImpactClass\",\n      \"properties\": {\n        \"dtype\": \"number\",\n        \"std\": 0.7140746523879324,\n        \"min\": 0.0,\n        \"max\": 4.0,\n        \"num_unique_values\": 5,\n        \"samples\": [\n          1.0,\n          4.0,\n          3.0\n        ],\n        \"semantic_type\": \"\",\n        \"description\": \"\"\n      }\n    }\n  ]\n}"
            }
          },
          "metadata": {},
          "execution_count": 6
        }
      ]
    },
    {
      "cell_type": "markdown",
      "source": [
        "'data.head()' function displays the initial five entries of the dataset, providing a snapshot of its structure and content. This preview helps verify column names, data types, and sample values for initial analysis."
      ],
      "metadata": {
        "id": "sffvppUdN0eG"
      }
    },
    {
      "cell_type": "code",
      "source": [
        "data.columns"
      ],
      "metadata": {
        "colab": {
          "base_uri": "https://localhost:8080/"
        },
        "id": "8N7B8JMa8xU-",
        "outputId": "615bd4b2-9348-4ee8-9e05-11f65919ddb7"
      },
      "execution_count": null,
      "outputs": [
        {
          "output_type": "execute_result",
          "data": {
            "text/plain": [
              "Index(['RecordID', 'AQI', 'PM10', 'PM2_5', 'NO2', 'SO2', 'O3', 'Temperature',\n",
              "       'Humidity', 'WindSpeed', 'RespiratoryCases', 'CardiovascularCases',\n",
              "       'HospitalAdmissions', 'HealthImpactScore', 'HealthImpactClass'],\n",
              "      dtype='object')"
            ]
          },
          "metadata": {},
          "execution_count": 7
        }
      ]
    },
    {
      "cell_type": "markdown",
      "source": [
        "It gives us the column names in the dataset."
      ],
      "metadata": {
        "id": "LCi-JCubOYjD"
      }
    },
    {
      "cell_type": "code",
      "source": [
        "print(data.dtypes)"
      ],
      "metadata": {
        "colab": {
          "base_uri": "https://localhost:8080/"
        },
        "id": "rzkMr5WAocYq",
        "outputId": "3dab6edf-f295-4409-df6d-77bd18532db7"
      },
      "execution_count": null,
      "outputs": [
        {
          "output_type": "stream",
          "name": "stdout",
          "text": [
            "RecordID                 int64\n",
            "AQI                    float64\n",
            "PM10                   float64\n",
            "PM2_5                  float64\n",
            "NO2                    float64\n",
            "SO2                    float64\n",
            "O3                     float64\n",
            "Temperature            float64\n",
            "Humidity               float64\n",
            "WindSpeed              float64\n",
            "RespiratoryCases         int64\n",
            "CardiovascularCases      int64\n",
            "HospitalAdmissions       int64\n",
            "HealthImpactScore      float64\n",
            "HealthImpactClass      float64\n",
            "dtype: object\n"
          ]
        }
      ]
    },
    {
      "cell_type": "markdown",
      "source": [
        "data.dtypes it helps us to understand the datatypes of each column in the dataset.we can observe that there are mainly two data types in our dataset.They are int64 and float64"
      ],
      "metadata": {
        "id": "qp2pX3h2OkRD"
      }
    },
    {
      "cell_type": "code",
      "source": [
        "data.describe()"
      ],
      "metadata": {
        "colab": {
          "base_uri": "https://localhost:8080/",
          "height": 320
        },
        "id": "Ykpkxfi8k00W",
        "outputId": "c1b0003d-f2ed-402c-a2db-40577af20891"
      },
      "execution_count": null,
      "outputs": [
        {
          "output_type": "execute_result",
          "data": {
            "text/plain": [
              "          RecordID          AQI         PM10        PM2_5          NO2  \\\n",
              "count  5811.000000  5811.000000  5811.000000  5811.000000  5811.000000   \n",
              "mean   2906.000000   248.438476   148.654997   100.223714   102.293445   \n",
              "std    1677.635538   144.777638    85.698500    58.096612    57.713175   \n",
              "min       1.000000     0.005817     0.015848     0.031549     0.009625   \n",
              "25%    1453.500000   122.951293    75.374954    49.435171    53.538538   \n",
              "50%    2906.000000   249.127841   147.634997   100.506337   102.987736   \n",
              "75%    4358.500000   373.630668   222.436759   151.340260   151.658516   \n",
              "max    5811.000000   499.858837   299.901962   199.984965   199.980195   \n",
              "\n",
              "               SO2           O3  Temperature     Humidity    WindSpeed  \\\n",
              "count  5811.000000  5811.000000  5811.000000  5811.000000  5811.000000   \n",
              "mean     49.456838   149.312431    14.975500    54.776853     9.989177   \n",
              "std      28.530329    86.534240    14.483067    26.020786     5.776950   \n",
              "min       0.011023     0.001661    -9.990998    10.001506     0.002094   \n",
              "25%      24.887264    73.999665     2.481500    31.995262     4.952343   \n",
              "50%      49.530165   149.559871    14.942428    54.543904    10.051742   \n",
              "75%      73.346617   223.380126    27.465374    77.641639    14.971840   \n",
              "max      99.969561   299.936812    39.963434    99.997493    19.999139   \n",
              "\n",
              "       RespiratoryCases  CardiovascularCases  HospitalAdmissions  \\\n",
              "count       5811.000000          5811.000000         5811.000000   \n",
              "mean           9.974187             4.988986            2.001033   \n",
              "std            3.129234             2.216791            1.398794   \n",
              "min            1.000000             0.000000            0.000000   \n",
              "25%            8.000000             3.000000            1.000000   \n",
              "50%           10.000000             5.000000            2.000000   \n",
              "75%           12.000000             6.000000            3.000000   \n",
              "max           23.000000            14.000000           12.000000   \n",
              "\n",
              "       HealthImpactScore  HealthImpactClass  \n",
              "count        5811.000000        5811.000000  \n",
              "mean           93.785223           0.281191  \n",
              "std            13.318904           0.714075  \n",
              "min            22.448488           0.000000  \n",
              "25%            98.203057           0.000000  \n",
              "50%           100.000000           0.000000  \n",
              "75%           100.000000           0.000000  \n",
              "max           100.000000           4.000000  "
            ],
            "text/html": [
              "\n",
              "  <div id=\"df-09a2033d-d1b6-4079-9aa2-916365f30ac3\" class=\"colab-df-container\">\n",
              "    <div>\n",
              "<style scoped>\n",
              "    .dataframe tbody tr th:only-of-type {\n",
              "        vertical-align: middle;\n",
              "    }\n",
              "\n",
              "    .dataframe tbody tr th {\n",
              "        vertical-align: top;\n",
              "    }\n",
              "\n",
              "    .dataframe thead th {\n",
              "        text-align: right;\n",
              "    }\n",
              "</style>\n",
              "<table border=\"1\" class=\"dataframe\">\n",
              "  <thead>\n",
              "    <tr style=\"text-align: right;\">\n",
              "      <th></th>\n",
              "      <th>RecordID</th>\n",
              "      <th>AQI</th>\n",
              "      <th>PM10</th>\n",
              "      <th>PM2_5</th>\n",
              "      <th>NO2</th>\n",
              "      <th>SO2</th>\n",
              "      <th>O3</th>\n",
              "      <th>Temperature</th>\n",
              "      <th>Humidity</th>\n",
              "      <th>WindSpeed</th>\n",
              "      <th>RespiratoryCases</th>\n",
              "      <th>CardiovascularCases</th>\n",
              "      <th>HospitalAdmissions</th>\n",
              "      <th>HealthImpactScore</th>\n",
              "      <th>HealthImpactClass</th>\n",
              "    </tr>\n",
              "  </thead>\n",
              "  <tbody>\n",
              "    <tr>\n",
              "      <th>count</th>\n",
              "      <td>5811.000000</td>\n",
              "      <td>5811.000000</td>\n",
              "      <td>5811.000000</td>\n",
              "      <td>5811.000000</td>\n",
              "      <td>5811.000000</td>\n",
              "      <td>5811.000000</td>\n",
              "      <td>5811.000000</td>\n",
              "      <td>5811.000000</td>\n",
              "      <td>5811.000000</td>\n",
              "      <td>5811.000000</td>\n",
              "      <td>5811.000000</td>\n",
              "      <td>5811.000000</td>\n",
              "      <td>5811.000000</td>\n",
              "      <td>5811.000000</td>\n",
              "      <td>5811.000000</td>\n",
              "    </tr>\n",
              "    <tr>\n",
              "      <th>mean</th>\n",
              "      <td>2906.000000</td>\n",
              "      <td>248.438476</td>\n",
              "      <td>148.654997</td>\n",
              "      <td>100.223714</td>\n",
              "      <td>102.293445</td>\n",
              "      <td>49.456838</td>\n",
              "      <td>149.312431</td>\n",
              "      <td>14.975500</td>\n",
              "      <td>54.776853</td>\n",
              "      <td>9.989177</td>\n",
              "      <td>9.974187</td>\n",
              "      <td>4.988986</td>\n",
              "      <td>2.001033</td>\n",
              "      <td>93.785223</td>\n",
              "      <td>0.281191</td>\n",
              "    </tr>\n",
              "    <tr>\n",
              "      <th>std</th>\n",
              "      <td>1677.635538</td>\n",
              "      <td>144.777638</td>\n",
              "      <td>85.698500</td>\n",
              "      <td>58.096612</td>\n",
              "      <td>57.713175</td>\n",
              "      <td>28.530329</td>\n",
              "      <td>86.534240</td>\n",
              "      <td>14.483067</td>\n",
              "      <td>26.020786</td>\n",
              "      <td>5.776950</td>\n",
              "      <td>3.129234</td>\n",
              "      <td>2.216791</td>\n",
              "      <td>1.398794</td>\n",
              "      <td>13.318904</td>\n",
              "      <td>0.714075</td>\n",
              "    </tr>\n",
              "    <tr>\n",
              "      <th>min</th>\n",
              "      <td>1.000000</td>\n",
              "      <td>0.005817</td>\n",
              "      <td>0.015848</td>\n",
              "      <td>0.031549</td>\n",
              "      <td>0.009625</td>\n",
              "      <td>0.011023</td>\n",
              "      <td>0.001661</td>\n",
              "      <td>-9.990998</td>\n",
              "      <td>10.001506</td>\n",
              "      <td>0.002094</td>\n",
              "      <td>1.000000</td>\n",
              "      <td>0.000000</td>\n",
              "      <td>0.000000</td>\n",
              "      <td>22.448488</td>\n",
              "      <td>0.000000</td>\n",
              "    </tr>\n",
              "    <tr>\n",
              "      <th>25%</th>\n",
              "      <td>1453.500000</td>\n",
              "      <td>122.951293</td>\n",
              "      <td>75.374954</td>\n",
              "      <td>49.435171</td>\n",
              "      <td>53.538538</td>\n",
              "      <td>24.887264</td>\n",
              "      <td>73.999665</td>\n",
              "      <td>2.481500</td>\n",
              "      <td>31.995262</td>\n",
              "      <td>4.952343</td>\n",
              "      <td>8.000000</td>\n",
              "      <td>3.000000</td>\n",
              "      <td>1.000000</td>\n",
              "      <td>98.203057</td>\n",
              "      <td>0.000000</td>\n",
              "    </tr>\n",
              "    <tr>\n",
              "      <th>50%</th>\n",
              "      <td>2906.000000</td>\n",
              "      <td>249.127841</td>\n",
              "      <td>147.634997</td>\n",
              "      <td>100.506337</td>\n",
              "      <td>102.987736</td>\n",
              "      <td>49.530165</td>\n",
              "      <td>149.559871</td>\n",
              "      <td>14.942428</td>\n",
              "      <td>54.543904</td>\n",
              "      <td>10.051742</td>\n",
              "      <td>10.000000</td>\n",
              "      <td>5.000000</td>\n",
              "      <td>2.000000</td>\n",
              "      <td>100.000000</td>\n",
              "      <td>0.000000</td>\n",
              "    </tr>\n",
              "    <tr>\n",
              "      <th>75%</th>\n",
              "      <td>4358.500000</td>\n",
              "      <td>373.630668</td>\n",
              "      <td>222.436759</td>\n",
              "      <td>151.340260</td>\n",
              "      <td>151.658516</td>\n",
              "      <td>73.346617</td>\n",
              "      <td>223.380126</td>\n",
              "      <td>27.465374</td>\n",
              "      <td>77.641639</td>\n",
              "      <td>14.971840</td>\n",
              "      <td>12.000000</td>\n",
              "      <td>6.000000</td>\n",
              "      <td>3.000000</td>\n",
              "      <td>100.000000</td>\n",
              "      <td>0.000000</td>\n",
              "    </tr>\n",
              "    <tr>\n",
              "      <th>max</th>\n",
              "      <td>5811.000000</td>\n",
              "      <td>499.858837</td>\n",
              "      <td>299.901962</td>\n",
              "      <td>199.984965</td>\n",
              "      <td>199.980195</td>\n",
              "      <td>99.969561</td>\n",
              "      <td>299.936812</td>\n",
              "      <td>39.963434</td>\n",
              "      <td>99.997493</td>\n",
              "      <td>19.999139</td>\n",
              "      <td>23.000000</td>\n",
              "      <td>14.000000</td>\n",
              "      <td>12.000000</td>\n",
              "      <td>100.000000</td>\n",
              "      <td>4.000000</td>\n",
              "    </tr>\n",
              "  </tbody>\n",
              "</table>\n",
              "</div>\n",
              "    <div class=\"colab-df-buttons\">\n",
              "\n",
              "  <div class=\"colab-df-container\">\n",
              "    <button class=\"colab-df-convert\" onclick=\"convertToInteractive('df-09a2033d-d1b6-4079-9aa2-916365f30ac3')\"\n",
              "            title=\"Convert this dataframe to an interactive table.\"\n",
              "            style=\"display:none;\">\n",
              "\n",
              "  <svg xmlns=\"http://www.w3.org/2000/svg\" height=\"24px\" viewBox=\"0 -960 960 960\">\n",
              "    <path d=\"M120-120v-720h720v720H120Zm60-500h600v-160H180v160Zm220 220h160v-160H400v160Zm0 220h160v-160H400v160ZM180-400h160v-160H180v160Zm440 0h160v-160H620v160ZM180-180h160v-160H180v160Zm440 0h160v-160H620v160Z\"/>\n",
              "  </svg>\n",
              "    </button>\n",
              "\n",
              "  <style>\n",
              "    .colab-df-container {\n",
              "      display:flex;\n",
              "      gap: 12px;\n",
              "    }\n",
              "\n",
              "    .colab-df-convert {\n",
              "      background-color: #E8F0FE;\n",
              "      border: none;\n",
              "      border-radius: 50%;\n",
              "      cursor: pointer;\n",
              "      display: none;\n",
              "      fill: #1967D2;\n",
              "      height: 32px;\n",
              "      padding: 0 0 0 0;\n",
              "      width: 32px;\n",
              "    }\n",
              "\n",
              "    .colab-df-convert:hover {\n",
              "      background-color: #E2EBFA;\n",
              "      box-shadow: 0px 1px 2px rgba(60, 64, 67, 0.3), 0px 1px 3px 1px rgba(60, 64, 67, 0.15);\n",
              "      fill: #174EA6;\n",
              "    }\n",
              "\n",
              "    .colab-df-buttons div {\n",
              "      margin-bottom: 4px;\n",
              "    }\n",
              "\n",
              "    [theme=dark] .colab-df-convert {\n",
              "      background-color: #3B4455;\n",
              "      fill: #D2E3FC;\n",
              "    }\n",
              "\n",
              "    [theme=dark] .colab-df-convert:hover {\n",
              "      background-color: #434B5C;\n",
              "      box-shadow: 0px 1px 3px 1px rgba(0, 0, 0, 0.15);\n",
              "      filter: drop-shadow(0px 1px 2px rgba(0, 0, 0, 0.3));\n",
              "      fill: #FFFFFF;\n",
              "    }\n",
              "  </style>\n",
              "\n",
              "    <script>\n",
              "      const buttonEl =\n",
              "        document.querySelector('#df-09a2033d-d1b6-4079-9aa2-916365f30ac3 button.colab-df-convert');\n",
              "      buttonEl.style.display =\n",
              "        google.colab.kernel.accessAllowed ? 'block' : 'none';\n",
              "\n",
              "      async function convertToInteractive(key) {\n",
              "        const element = document.querySelector('#df-09a2033d-d1b6-4079-9aa2-916365f30ac3');\n",
              "        const dataTable =\n",
              "          await google.colab.kernel.invokeFunction('convertToInteractive',\n",
              "                                                    [key], {});\n",
              "        if (!dataTable) return;\n",
              "\n",
              "        const docLinkHtml = 'Like what you see? Visit the ' +\n",
              "          '<a target=\"_blank\" href=https://colab.research.google.com/notebooks/data_table.ipynb>data table notebook</a>'\n",
              "          + ' to learn more about interactive tables.';\n",
              "        element.innerHTML = '';\n",
              "        dataTable['output_type'] = 'display_data';\n",
              "        await google.colab.output.renderOutput(dataTable, element);\n",
              "        const docLink = document.createElement('div');\n",
              "        docLink.innerHTML = docLinkHtml;\n",
              "        element.appendChild(docLink);\n",
              "      }\n",
              "    </script>\n",
              "  </div>\n",
              "\n",
              "\n",
              "<div id=\"df-9940c60b-507f-4ea6-b56d-24052cfbb703\">\n",
              "  <button class=\"colab-df-quickchart\" onclick=\"quickchart('df-9940c60b-507f-4ea6-b56d-24052cfbb703')\"\n",
              "            title=\"Suggest charts\"\n",
              "            style=\"display:none;\">\n",
              "\n",
              "<svg xmlns=\"http://www.w3.org/2000/svg\" height=\"24px\"viewBox=\"0 0 24 24\"\n",
              "     width=\"24px\">\n",
              "    <g>\n",
              "        <path d=\"M19 3H5c-1.1 0-2 .9-2 2v14c0 1.1.9 2 2 2h14c1.1 0 2-.9 2-2V5c0-1.1-.9-2-2-2zM9 17H7v-7h2v7zm4 0h-2V7h2v10zm4 0h-2v-4h2v4z\"/>\n",
              "    </g>\n",
              "</svg>\n",
              "  </button>\n",
              "\n",
              "<style>\n",
              "  .colab-df-quickchart {\n",
              "      --bg-color: #E8F0FE;\n",
              "      --fill-color: #1967D2;\n",
              "      --hover-bg-color: #E2EBFA;\n",
              "      --hover-fill-color: #174EA6;\n",
              "      --disabled-fill-color: #AAA;\n",
              "      --disabled-bg-color: #DDD;\n",
              "  }\n",
              "\n",
              "  [theme=dark] .colab-df-quickchart {\n",
              "      --bg-color: #3B4455;\n",
              "      --fill-color: #D2E3FC;\n",
              "      --hover-bg-color: #434B5C;\n",
              "      --hover-fill-color: #FFFFFF;\n",
              "      --disabled-bg-color: #3B4455;\n",
              "      --disabled-fill-color: #666;\n",
              "  }\n",
              "\n",
              "  .colab-df-quickchart {\n",
              "    background-color: var(--bg-color);\n",
              "    border: none;\n",
              "    border-radius: 50%;\n",
              "    cursor: pointer;\n",
              "    display: none;\n",
              "    fill: var(--fill-color);\n",
              "    height: 32px;\n",
              "    padding: 0;\n",
              "    width: 32px;\n",
              "  }\n",
              "\n",
              "  .colab-df-quickchart:hover {\n",
              "    background-color: var(--hover-bg-color);\n",
              "    box-shadow: 0 1px 2px rgba(60, 64, 67, 0.3), 0 1px 3px 1px rgba(60, 64, 67, 0.15);\n",
              "    fill: var(--button-hover-fill-color);\n",
              "  }\n",
              "\n",
              "  .colab-df-quickchart-complete:disabled,\n",
              "  .colab-df-quickchart-complete:disabled:hover {\n",
              "    background-color: var(--disabled-bg-color);\n",
              "    fill: var(--disabled-fill-color);\n",
              "    box-shadow: none;\n",
              "  }\n",
              "\n",
              "  .colab-df-spinner {\n",
              "    border: 2px solid var(--fill-color);\n",
              "    border-color: transparent;\n",
              "    border-bottom-color: var(--fill-color);\n",
              "    animation:\n",
              "      spin 1s steps(1) infinite;\n",
              "  }\n",
              "\n",
              "  @keyframes spin {\n",
              "    0% {\n",
              "      border-color: transparent;\n",
              "      border-bottom-color: var(--fill-color);\n",
              "      border-left-color: var(--fill-color);\n",
              "    }\n",
              "    20% {\n",
              "      border-color: transparent;\n",
              "      border-left-color: var(--fill-color);\n",
              "      border-top-color: var(--fill-color);\n",
              "    }\n",
              "    30% {\n",
              "      border-color: transparent;\n",
              "      border-left-color: var(--fill-color);\n",
              "      border-top-color: var(--fill-color);\n",
              "      border-right-color: var(--fill-color);\n",
              "    }\n",
              "    40% {\n",
              "      border-color: transparent;\n",
              "      border-right-color: var(--fill-color);\n",
              "      border-top-color: var(--fill-color);\n",
              "    }\n",
              "    60% {\n",
              "      border-color: transparent;\n",
              "      border-right-color: var(--fill-color);\n",
              "    }\n",
              "    80% {\n",
              "      border-color: transparent;\n",
              "      border-right-color: var(--fill-color);\n",
              "      border-bottom-color: var(--fill-color);\n",
              "    }\n",
              "    90% {\n",
              "      border-color: transparent;\n",
              "      border-bottom-color: var(--fill-color);\n",
              "    }\n",
              "  }\n",
              "</style>\n",
              "\n",
              "  <script>\n",
              "    async function quickchart(key) {\n",
              "      const quickchartButtonEl =\n",
              "        document.querySelector('#' + key + ' button');\n",
              "      quickchartButtonEl.disabled = true;  // To prevent multiple clicks.\n",
              "      quickchartButtonEl.classList.add('colab-df-spinner');\n",
              "      try {\n",
              "        const charts = await google.colab.kernel.invokeFunction(\n",
              "            'suggestCharts', [key], {});\n",
              "      } catch (error) {\n",
              "        console.error('Error during call to suggestCharts:', error);\n",
              "      }\n",
              "      quickchartButtonEl.classList.remove('colab-df-spinner');\n",
              "      quickchartButtonEl.classList.add('colab-df-quickchart-complete');\n",
              "    }\n",
              "    (() => {\n",
              "      let quickchartButtonEl =\n",
              "        document.querySelector('#df-9940c60b-507f-4ea6-b56d-24052cfbb703 button');\n",
              "      quickchartButtonEl.style.display =\n",
              "        google.colab.kernel.accessAllowed ? 'block' : 'none';\n",
              "    })();\n",
              "  </script>\n",
              "</div>\n",
              "\n",
              "    </div>\n",
              "  </div>\n"
            ],
            "application/vnd.google.colaboratory.intrinsic+json": {
              "type": "dataframe",
              "summary": "{\n  \"name\": \"data\",\n  \"rows\": 8,\n  \"fields\": [\n    {\n      \"column\": \"RecordID\",\n      \"properties\": {\n        \"dtype\": \"number\",\n        \"std\": 2094.007723044455,\n        \"min\": 1.0,\n        \"max\": 5811.0,\n        \"num_unique_values\": 6,\n        \"samples\": [\n          5811.0,\n          2906.0,\n          4358.5\n        ],\n        \"semantic_type\": \"\",\n        \"description\": \"\"\n      }\n    },\n    {\n      \"column\": \"AQI\",\n      \"properties\": {\n        \"dtype\": \"number\",\n        \"std\": 1977.719510408,\n        \"min\": 0.0058173776830705,\n        \"max\": 5811.0,\n        \"num_unique_values\": 8,\n        \"samples\": [\n          248.4384763401845,\n          249.12784113172685,\n          5811.0\n        ],\n        \"semantic_type\": \"\",\n        \"description\": \"\"\n      }\n    },\n    {\n      \"column\": \"PM10\",\n      \"properties\": {\n        \"dtype\": \"number\",\n        \"std\": 2007.1240590173322,\n        \"min\": 0.0158480796890403,\n        \"max\": 5811.0,\n        \"num_unique_values\": 8,\n        \"samples\": [\n          148.65499660789416,\n          147.63499712575847,\n          5811.0\n        ],\n        \"semantic_type\": \"\",\n        \"description\": \"\"\n      }\n    },\n    {\n      \"column\": \"PM2_5\",\n      \"properties\": {\n        \"dtype\": \"number\",\n        \"std\": 2022.1265710458808,\n        \"min\": 0.0315489156113457,\n        \"max\": 5811.0,\n        \"num_unique_values\": 8,\n        \"samples\": [\n          100.22371356152073,\n          100.506336851415,\n          5811.0\n        ],\n        \"semantic_type\": \"\",\n        \"description\": \"\"\n      }\n    },\n    {\n      \"column\": \"NO2\",\n      \"properties\": {\n        \"dtype\": \"number\",\n        \"std\": 2021.686259192991,\n        \"min\": 0.0096247788623493,\n        \"max\": 5811.0,\n        \"num_unique_values\": 8,\n        \"samples\": [\n          102.29344544471141,\n          102.98773591746198,\n          5811.0\n        ],\n        \"semantic_type\": \"\",\n        \"description\": \"\"\n      }\n    },\n    {\n      \"column\": \"SO2\",\n      \"properties\": {\n        \"dtype\": \"number\",\n        \"std\": 2038.2763225025437,\n        \"min\": 0.0110231801822457,\n        \"max\": 5811.0,\n        \"num_unique_values\": 8,\n        \"samples\": [\n          49.45683793935645,\n          49.530165368961,\n          5811.0\n        ],\n        \"semantic_type\": \"\",\n        \"description\": \"\"\n      }\n    },\n    {\n      \"column\": \"O3\",\n      \"properties\": {\n        \"dtype\": \"number\",\n        \"std\": 2006.9832073645343,\n        \"min\": 0.0016610027213981,\n        \"max\": 5811.0,\n        \"num_unique_values\": 8,\n        \"samples\": [\n          149.31243054715105,\n          149.55987089178169,\n          5811.0\n        ],\n        \"semantic_type\": \"\",\n        \"description\": \"\"\n      }\n    },\n    {\n      \"column\": \"Temperature\",\n      \"properties\": {\n        \"dtype\": \"number\",\n        \"std\": 2049.284157716028,\n        \"min\": -9.99099805080186,\n        \"max\": 5811.0,\n        \"num_unique_values\": 8,\n        \"samples\": [\n          14.975499567015513,\n          14.94242760313115,\n          5811.0\n        ],\n        \"semantic_type\": \"\",\n        \"description\": \"\"\n      }\n    },\n    {\n      \"column\": \"Humidity\",\n      \"properties\": {\n        \"dtype\": \"number\",\n        \"std\": 2036.773195321802,\n        \"min\": 10.001506263214129,\n        \"max\": 5811.0,\n        \"num_unique_values\": 8,\n        \"samples\": [\n          54.77685271103261,\n          54.54390439372861,\n          5811.0\n        ],\n        \"semantic_type\": \"\",\n        \"description\": \"\"\n      }\n    },\n    {\n      \"column\": \"WindSpeed\",\n      \"properties\": {\n        \"dtype\": \"number\",\n        \"std\": 2051.187456976796,\n        \"min\": 0.0020942159628711,\n        \"max\": 5811.0,\n        \"num_unique_values\": 8,\n        \"samples\": [\n          9.989177335880642,\n          10.05174203489001,\n          5811.0\n        ],\n        \"semantic_type\": \"\",\n        \"description\": \"\"\n      }\n    },\n    {\n      \"column\": \"RespiratoryCases\",\n      \"properties\": {\n        \"dtype\": \"number\",\n        \"std\": 2051.120105084052,\n        \"min\": 1.0,\n        \"max\": 5811.0,\n        \"num_unique_values\": 8,\n        \"samples\": [\n          9.974186886938565,\n          10.0,\n          5811.0\n        ],\n        \"semantic_type\": \"\",\n        \"description\": \"\"\n      }\n    },\n    {\n      \"column\": \"CardiovascularCases\",\n      \"properties\": {\n        \"dtype\": \"number\",\n        \"std\": 2052.724724238537,\n        \"min\": 0.0,\n        \"max\": 5811.0,\n        \"num_unique_values\": 8,\n        \"samples\": [\n          4.9889864050937875,\n          5.0,\n          5811.0\n        ],\n        \"semantic_type\": \"\",\n        \"description\": \"\"\n      }\n    },\n    {\n      \"column\": \"HospitalAdmissions\",\n      \"properties\": {\n        \"dtype\": \"number\",\n        \"std\": 2053.421325957935,\n        \"min\": 0.0,\n        \"max\": 5811.0,\n        \"num_unique_values\": 8,\n        \"samples\": [\n          2.0010325245224574,\n          2.0,\n          5811.0\n        ],\n        \"semantic_type\": \"\",\n        \"description\": \"\"\n      }\n    },\n    {\n      \"column\": \"HealthImpactScore\",\n      \"properties\": {\n        \"dtype\": \"number\",\n        \"std\": 2028.171727836152,\n        \"min\": 13.318904122664915,\n        \"max\": 5811.0,\n        \"num_unique_values\": 6,\n        \"samples\": [\n          5811.0,\n          93.78522259881154,\n          100.0\n        ],\n        \"semantic_type\": \"\",\n        \"description\": \"\"\n      }\n    },\n    {\n      \"column\": \"HealthImpactClass\",\n      \"properties\": {\n        \"dtype\": \"number\",\n        \"std\": 2054.246906600184,\n        \"min\": 0.0,\n        \"max\": 5811.0,\n        \"num_unique_values\": 5,\n        \"samples\": [\n          0.2811908449492342,\n          4.0,\n          0.7140746523879324\n        ],\n        \"semantic_type\": \"\",\n        \"description\": \"\"\n      }\n    }\n  ]\n}"
            }
          },
          "metadata": {},
          "execution_count": 9
        }
      ]
    },
    {
      "cell_type": "markdown",
      "source": [
        "The data.describe() function provides key statistics like the mean, standard deviation, minimum, maximum, and quartiles (25%, 50%, and 75%) for each numerical column. It helps summarize the central tendency, spread, and range of the data."
      ],
      "metadata": {
        "id": "12s6oBjMXJlJ"
      }
    },
    {
      "cell_type": "code",
      "source": [
        " missing=data.isnull()\n",
        " print(missing)"
      ],
      "metadata": {
        "colab": {
          "base_uri": "https://localhost:8080/"
        },
        "id": "el-NW6GVlNu2",
        "outputId": "c2114bd8-cd8c-4019-eccc-4ecbfe307ad3"
      },
      "execution_count": null,
      "outputs": [
        {
          "output_type": "stream",
          "name": "stdout",
          "text": [
            "      RecordID    AQI   PM10  PM2_5    NO2    SO2     O3  Temperature  \\\n",
            "0        False  False  False  False  False  False  False        False   \n",
            "1        False  False  False  False  False  False  False        False   \n",
            "2        False  False  False  False  False  False  False        False   \n",
            "3        False  False  False  False  False  False  False        False   \n",
            "4        False  False  False  False  False  False  False        False   \n",
            "...        ...    ...    ...    ...    ...    ...    ...          ...   \n",
            "5806     False  False  False  False  False  False  False        False   \n",
            "5807     False  False  False  False  False  False  False        False   \n",
            "5808     False  False  False  False  False  False  False        False   \n",
            "5809     False  False  False  False  False  False  False        False   \n",
            "5810     False  False  False  False  False  False  False        False   \n",
            "\n",
            "      Humidity  WindSpeed  RespiratoryCases  CardiovascularCases  \\\n",
            "0        False      False             False                False   \n",
            "1        False      False             False                False   \n",
            "2        False      False             False                False   \n",
            "3        False      False             False                False   \n",
            "4        False      False             False                False   \n",
            "...        ...        ...               ...                  ...   \n",
            "5806     False      False             False                False   \n",
            "5807     False      False             False                False   \n",
            "5808     False      False             False                False   \n",
            "5809     False      False             False                False   \n",
            "5810     False      False             False                False   \n",
            "\n",
            "      HospitalAdmissions  HealthImpactScore  HealthImpactClass  \n",
            "0                  False              False              False  \n",
            "1                  False              False              False  \n",
            "2                  False              False              False  \n",
            "3                  False              False              False  \n",
            "4                  False              False              False  \n",
            "...                  ...                ...                ...  \n",
            "5806               False              False              False  \n",
            "5807               False              False              False  \n",
            "5808               False              False              False  \n",
            "5809               False              False              False  \n",
            "5810               False              False              False  \n",
            "\n",
            "[5811 rows x 15 columns]\n"
          ]
        }
      ]
    },
    {
      "cell_type": "markdown",
      "source": [
        "isnull()-To check the missing values in the dataset.There are no missing values in the dataset across all columns."
      ],
      "metadata": {
        "id": "7q_H5-LJn_C5"
      }
    },
    {
      "cell_type": "code",
      "source": [
        "print(data.isnull().sum())"
      ],
      "metadata": {
        "colab": {
          "base_uri": "https://localhost:8080/"
        },
        "id": "fZpx9W_llaLq",
        "outputId": "e0d47685-4fb6-4580-fd2b-740abcd8b003"
      },
      "execution_count": null,
      "outputs": [
        {
          "output_type": "stream",
          "name": "stdout",
          "text": [
            "RecordID               0\n",
            "AQI                    0\n",
            "PM10                   0\n",
            "PM2_5                  0\n",
            "NO2                    0\n",
            "SO2                    0\n",
            "O3                     0\n",
            "Temperature            0\n",
            "Humidity               0\n",
            "WindSpeed              0\n",
            "RespiratoryCases       0\n",
            "CardiovascularCases    0\n",
            "HospitalAdmissions     0\n",
            "HealthImpactScore      0\n",
            "HealthImpactClass      0\n",
            "dtype: int64\n"
          ]
        }
      ]
    },
    {
      "cell_type": "markdown",
      "source": [
        "data.isnull().sum() - It gives the count of missing values.The dataset does not contain any missing values, as the sum of null values for each column is zero. All entries are complete across all columns."
      ],
      "metadata": {
        "id": "OV0KS6uGP_K2"
      }
    },
    {
      "cell_type": "code",
      "source": [
        "data.duplicated()"
      ],
      "metadata": {
        "colab": {
          "base_uri": "https://localhost:8080/",
          "height": 458
        },
        "id": "pfqUfeas9DvB",
        "outputId": "bc3306dc-e641-424a-ea2d-0754b79c4b57"
      },
      "execution_count": null,
      "outputs": [
        {
          "output_type": "execute_result",
          "data": {
            "text/plain": [
              "0       False\n",
              "1       False\n",
              "2       False\n",
              "3       False\n",
              "4       False\n",
              "        ...  \n",
              "5806    False\n",
              "5807    False\n",
              "5808    False\n",
              "5809    False\n",
              "5810    False\n",
              "Length: 5811, dtype: bool"
            ],
            "text/html": [
              "<div>\n",
              "<style scoped>\n",
              "    .dataframe tbody tr th:only-of-type {\n",
              "        vertical-align: middle;\n",
              "    }\n",
              "\n",
              "    .dataframe tbody tr th {\n",
              "        vertical-align: top;\n",
              "    }\n",
              "\n",
              "    .dataframe thead th {\n",
              "        text-align: right;\n",
              "    }\n",
              "</style>\n",
              "<table border=\"1\" class=\"dataframe\">\n",
              "  <thead>\n",
              "    <tr style=\"text-align: right;\">\n",
              "      <th></th>\n",
              "      <th>0</th>\n",
              "    </tr>\n",
              "  </thead>\n",
              "  <tbody>\n",
              "    <tr>\n",
              "      <th>0</th>\n",
              "      <td>False</td>\n",
              "    </tr>\n",
              "    <tr>\n",
              "      <th>1</th>\n",
              "      <td>False</td>\n",
              "    </tr>\n",
              "    <tr>\n",
              "      <th>2</th>\n",
              "      <td>False</td>\n",
              "    </tr>\n",
              "    <tr>\n",
              "      <th>3</th>\n",
              "      <td>False</td>\n",
              "    </tr>\n",
              "    <tr>\n",
              "      <th>4</th>\n",
              "      <td>False</td>\n",
              "    </tr>\n",
              "    <tr>\n",
              "      <th>...</th>\n",
              "      <td>...</td>\n",
              "    </tr>\n",
              "    <tr>\n",
              "      <th>5806</th>\n",
              "      <td>False</td>\n",
              "    </tr>\n",
              "    <tr>\n",
              "      <th>5807</th>\n",
              "      <td>False</td>\n",
              "    </tr>\n",
              "    <tr>\n",
              "      <th>5808</th>\n",
              "      <td>False</td>\n",
              "    </tr>\n",
              "    <tr>\n",
              "      <th>5809</th>\n",
              "      <td>False</td>\n",
              "    </tr>\n",
              "    <tr>\n",
              "      <th>5810</th>\n",
              "      <td>False</td>\n",
              "    </tr>\n",
              "  </tbody>\n",
              "</table>\n",
              "<p>5811 rows × 1 columns</p>\n",
              "</div><br><label><b>dtype:</b> bool</label>"
            ]
          },
          "metadata": {},
          "execution_count": 12
        }
      ]
    },
    {
      "cell_type": "markdown",
      "source": [
        "data.duplicated()-The output shows a series of boolean values where True indicates a duplicate row and False indicates a unique row.There are no duplicate values in the dataset."
      ],
      "metadata": {
        "id": "f_SJmmAuQpfB"
      }
    },
    {
      "cell_type": "code",
      "source": [
        "print(data.duplicated().sum())\n"
      ],
      "metadata": {
        "colab": {
          "base_uri": "https://localhost:8080/"
        },
        "id": "gjjgDYPOoFzJ",
        "outputId": "d7d8b22e-8da6-4766-84ed-5ebee105d220"
      },
      "execution_count": null,
      "outputs": [
        {
          "output_type": "stream",
          "name": "stdout",
          "text": [
            "0\n"
          ]
        }
      ]
    },
    {
      "cell_type": "markdown",
      "source": [
        "data.duplicated().sum()-It gives the count of duplicate rows.The count 0 indicates there are no duplicate rows."
      ],
      "metadata": {
        "id": "fbuPhqj_Q1Fa"
      }
    },
    {
      "cell_type": "code",
      "source": [
        "print(data.corr())\n"
      ],
      "metadata": {
        "colab": {
          "base_uri": "https://localhost:8080/"
        },
        "id": "Q59LJruXo5LC",
        "outputId": "302942ec-10b5-4e5a-86f4-69265ecd9e9b"
      },
      "execution_count": null,
      "outputs": [
        {
          "output_type": "stream",
          "name": "stdout",
          "text": [
            "                     RecordID       AQI      PM10     PM2_5       NO2  \\\n",
            "RecordID             1.000000 -0.003768  0.022260  0.022816  0.010694   \n",
            "AQI                 -0.003768  1.000000  0.023127  0.005890  0.007836   \n",
            "PM10                 0.022260  0.023127  1.000000 -0.012193  0.008487   \n",
            "PM2_5                0.022816  0.005890 -0.012193  1.000000  0.005564   \n",
            "NO2                  0.010694  0.007836  0.008487  0.005564  1.000000   \n",
            "SO2                 -0.021524 -0.006644 -0.007177  0.015894 -0.019979   \n",
            "O3                  -0.000874  0.002339 -0.004411  0.006070 -0.014910   \n",
            "Temperature          0.004080  0.004185 -0.017561 -0.001978  0.006971   \n",
            "Humidity            -0.001449 -0.004217 -0.017290  0.006720 -0.011100   \n",
            "WindSpeed            0.018529 -0.018816 -0.018959  0.009041 -0.001398   \n",
            "RespiratoryCases    -0.014545  0.009302 -0.001315  0.025244  0.019849   \n",
            "CardiovascularCases -0.030537  0.009158  0.015582  0.017312 -0.005012   \n",
            "HospitalAdmissions  -0.008299 -0.013592 -0.009076 -0.023123 -0.002859   \n",
            "HealthImpactScore    0.015786  0.614560  0.182600  0.220347  0.124435   \n",
            "HealthImpactClass    0.198229 -0.348106 -0.108271 -0.152407 -0.090387   \n",
            "\n",
            "                          SO2        O3  Temperature  Humidity  WindSpeed  \\\n",
            "RecordID            -0.021524 -0.000874     0.004080 -0.001449   0.018529   \n",
            "AQI                 -0.006644  0.002339     0.004185 -0.004217  -0.018816   \n",
            "PM10                -0.007177 -0.004411    -0.017561 -0.017290  -0.018959   \n",
            "PM2_5                0.015894  0.006070    -0.001978  0.006720   0.009041   \n",
            "NO2                 -0.019979 -0.014910     0.006971 -0.011100  -0.001398   \n",
            "SO2                  1.000000 -0.004319    -0.022458  0.000910  -0.001617   \n",
            "O3                  -0.004319  1.000000    -0.001257  0.003982  -0.002596   \n",
            "Temperature         -0.022458 -0.001257     1.000000 -0.000233   0.000887   \n",
            "Humidity             0.000910  0.003982    -0.000233  1.000000   0.021027   \n",
            "WindSpeed           -0.001617 -0.002596     0.000887  0.021027   1.000000   \n",
            "RespiratoryCases     0.011130 -0.010068     0.009394  0.008691  -0.010553   \n",
            "CardiovascularCases -0.002672  0.001753     0.009249 -0.024617   0.003715   \n",
            "HospitalAdmissions  -0.010546 -0.014293     0.007943 -0.004865  -0.006454   \n",
            "HealthImpactScore    0.015535  0.157940    -0.010556  0.000662  -0.025447   \n",
            "HealthImpactClass   -0.008364 -0.110093     0.005969 -0.006715   0.005999   \n",
            "\n",
            "                     RespiratoryCases  CardiovascularCases  \\\n",
            "RecordID                    -0.014545            -0.030537   \n",
            "AQI                          0.009302             0.009158   \n",
            "PM10                        -0.001315             0.015582   \n",
            "PM2_5                        0.025244             0.017312   \n",
            "NO2                          0.019849            -0.005012   \n",
            "SO2                          0.011130            -0.002672   \n",
            "O3                          -0.010068             0.001753   \n",
            "Temperature                  0.009394             0.009249   \n",
            "Humidity                     0.008691            -0.024617   \n",
            "WindSpeed                   -0.010553             0.003715   \n",
            "RespiratoryCases             1.000000            -0.002621   \n",
            "CardiovascularCases         -0.002621             1.000000   \n",
            "HospitalAdmissions           0.009679            -0.035632   \n",
            "HealthImpactScore            0.019268            -0.008857   \n",
            "HealthImpactClass           -0.008536             0.001848   \n",
            "\n",
            "                     HospitalAdmissions  HealthImpactScore  HealthImpactClass  \n",
            "RecordID                      -0.008299           0.015786           0.198229  \n",
            "AQI                           -0.013592           0.614560          -0.348106  \n",
            "PM10                          -0.009076           0.182600          -0.108271  \n",
            "PM2_5                         -0.023123           0.220347          -0.152407  \n",
            "NO2                           -0.002859           0.124435          -0.090387  \n",
            "SO2                           -0.010546           0.015535          -0.008364  \n",
            "O3                            -0.014293           0.157940          -0.110093  \n",
            "Temperature                    0.007943          -0.010556           0.005969  \n",
            "Humidity                      -0.004865           0.000662          -0.006715  \n",
            "WindSpeed                     -0.006454          -0.025447           0.005999  \n",
            "RespiratoryCases               0.009679           0.019268          -0.008536  \n",
            "CardiovascularCases           -0.035632          -0.008857           0.001848  \n",
            "HospitalAdmissions             1.000000          -0.029304           0.014873  \n",
            "HealthImpactScore             -0.029304           1.000000          -0.655611  \n",
            "HealthImpactClass              0.014873          -0.655611           1.000000  \n"
          ]
        }
      ]
    },
    {
      "cell_type": "markdown",
      "source": [
        "The correlation matrix indicates the relationships between each pair of columns in the dataset. From the above output we can understand that:\n",
        "\n",
        "- AQI shows a strong positive correlation with HealthImpactScore (0.61456), suggesting that as AQI increases, the health impact score tends to increase as well.\n",
        "- HealthImpactScore has a negative correlation with HealthImpactClass (-0.65561), which might suggest that higher health impact scores correspond to a lower class.\n",
        "- CardiovascularCases and HospitalAdmissions show a slight negative correlation with each other (-0.035632), indicating a very weak inverse relationship.\n",
        "- There is a mild positive correlation between PM2_5 and RespiratoryCases (0.025244), meaning that higher PM2.5 levels are somewhat associated with an increase in respiratory cases.\n",
        "- Variables like Temperature, WindSpeed, and Humidity generally show low or very weak correlations with the health-related columns.\n",
        "\n",
        "The correlations between various pollutants  are generally low, suggesting that these pollutants don't have strong linear relationships with each other in this dataset."
      ],
      "metadata": {
        "id": "TNHuQ036RYI_"
      }
    },
    {
      "cell_type": "code",
      "source": [
        "plt.figure(figsize=(8, 8))\n",
        "sns.heatmap(data.drop(columns=[\"RecordID\"]).corr(), annot=True, cmap=\"PiYG\", fmt=\".2f\", linewidths=0.5)\n",
        "plt.title(\"Correlation Matrix Heatmap\")\n",
        "plt.show()"
      ],
      "metadata": {
        "colab": {
          "base_uri": "https://localhost:8080/",
          "height": 829
        },
        "id": "y_c-_kQLrcsL",
        "outputId": "53f6eb7e-1ae1-4670-d754-c492e64e557d"
      },
      "execution_count": null,
      "outputs": [
        {
          "output_type": "display_data",
          "data": {
            "text/plain": [
              "<Figure size 800x800 with 2 Axes>"
            ],
            "image/png": "[encoded data removed]"
          },
          "metadata": {}
        }
      ]
    },
    {
      "cell_type": "code",
      "source": [
        "import matplotlib.pyplot as plt\n",
        "\n",
        "num_cols = ['AQI', 'PM10', 'PM2_5', 'NO2', 'SO2', 'O3', 'Temperature', 'Humidity', 'WindSpeed']\n",
        "\n",
        "plt.figure(figsize=(12, 6))\n",
        "sns.boxplot(data=data[num_cols])\n",
        "plt.xticks(rotation=45)\n",
        "plt.title(\"Boxplot of Numerical Features (Outlier Detection)\")\n",
        "plt.show()\n",
        "\n"
      ],
      "metadata": {
        "colab": {
          "base_uri": "https://localhost:8080/",
          "height": 603
        },
        "id": "4SsZxBMbBh1x",
        "outputId": "7d1f1cb0-a16f-478e-ab9e-19c68d1e7c67"
      },
      "execution_count": null,
      "outputs": [
        {
          "output_type": "display_data",
          "data": {
            "text/plain": [
              "<Figure size 1200x600 with 1 Axes>"
            ],
            "image/png": "[encoded data removed]"
          },
          "metadata": {}
        }
      ]
    },
    {
      "cell_type": "markdown",
      "source": [
        "A boxplot shows data distribution, including the median, quartiles, and potential outliers. Outliers are values outside the whiskers, which represent the range of typical data. Boxplots help detect extreme values that might affect analysis.\n",
        "In the above boxplot, the whiskers are long, indicating a wide spread of data, but there are no individual points outside the whiskers, which means there are no extreme outliers based on the 1.5 x IQR rule."
      ],
      "metadata": {
        "id": "HiUCeotuT4KP"
      }
    },
    {
      "cell_type": "code",
      "source": [
        "outlier_counts = {}\n",
        "\n",
        "for col in num_cols:\n",
        "    Q1 = data[col].quantile(0.25)\n",
        "    Q3 = data[col].quantile(0.75)\n",
        "    IQR = Q3 - Q1\n",
        "    lower_bound = Q1 - 1.5 * IQR\n",
        "    upper_bound = Q3 + 1.5 * IQR\n",
        "\n",
        "    outliers = data[(data[col] < lower_bound) | (data[col] > upper_bound)]\n",
        "    outlier_counts[col] = len(outliers)\n",
        "\n",
        "for col, count in outlier_counts.items():\n",
        "    print(f\"{col}: {count} outliers\")\n"
      ],
      "metadata": {
        "colab": {
          "base_uri": "https://localhost:8080/"
        },
        "id": "u7wq3CoyFgNs",
        "outputId": "080e84f5-82c7-489e-ecdb-53d0aab74ead"
      },
      "execution_count": null,
      "outputs": [
        {
          "output_type": "stream",
          "name": "stdout",
          "text": [
            "AQI: 0 outliers\n",
            "PM10: 0 outliers\n",
            "PM2_5: 0 outliers\n",
            "NO2: 0 outliers\n",
            "SO2: 0 outliers\n",
            "O3: 0 outliers\n",
            "Temperature: 0 outliers\n",
            "Humidity: 0 outliers\n",
            "WindSpeed: 0 outliers\n"
          ]
        }
      ]
    },
    {
      "cell_type": "markdown",
      "source": [
        "From the above output we can understand that there are no outliers in any of the column."
      ],
      "metadata": {
        "id": "tBI3K-FbVgc6"
      }
    }
  ]
}